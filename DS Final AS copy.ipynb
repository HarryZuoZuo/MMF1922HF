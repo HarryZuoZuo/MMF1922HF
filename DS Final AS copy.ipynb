{
 "cells": [
  {
   "cell_type": "code",
   "execution_count": 29,
   "id": "8e03727b",
   "metadata": {},
   "outputs": [],
   "source": [
    "import pandas as pd  \n",
    "import numpy as np  \n",
    "from sklearn.model_selection import train_test_split \n",
    "from sklearn import metrics\n",
    "import xgboost as xgb\n",
    "from sklearn.metrics import mean_squared_error"
   ]
  },
  {
   "cell_type": "code",
   "execution_count": 30,
   "id": "bed7b60a",
   "metadata": {},
   "outputs": [],
   "source": [
    "df = pd.read_csv('train.csv',index_col=0)"
   ]
  },
  {
   "cell_type": "code",
   "execution_count": 31,
   "id": "73515c7a",
   "metadata": {},
   "outputs": [],
   "source": [
    "to_replace_dict = {'Very Good': 3, 'Premium': 4, 'Good': 2, 'Fair': 1, 'Ideal':5}\n",
    "for key, score in to_replace_dict.items():\n",
    "    df.cut.replace(to_replace = key ,value = score, inplace= True)"
   ]
  },
  {
   "cell_type": "code",
   "execution_count": 32,
   "id": "b8a10473",
   "metadata": {},
   "outputs": [],
   "source": [
    "to_replace_dict = {'D': 7, 'E': 6, 'F': 5, 'G': 4, 'H':3, 'I': 2, 'J':1}\n",
    "for key, score in to_replace_dict.items():\n",
    "    df.color.replace(to_replace = key ,value = score, inplace= True)"
   ]
  },
  {
   "cell_type": "code",
   "execution_count": 33,
   "id": "f143755e",
   "metadata": {},
   "outputs": [],
   "source": [
    "to_replace_dict = {'IF': 8, 'VVS1': 7, 'VVS2': 6, 'VS1': 5, 'VS2':4, 'SI1': 3, 'SI2':2, 'I1':1}\n",
    "for key, score in to_replace_dict.items():\n",
    "    df.clarity.replace(to_replace = key ,value = score, inplace= True)"
   ]
  },
  {
   "cell_type": "code",
   "execution_count": 34,
   "id": "dfe721ea",
   "metadata": {},
   "outputs": [],
   "source": [
    "df = df.drop(df[(df.x == 0) | (df.y == 0) | (df.z == 0)].index)"
   ]
  },
  {
   "cell_type": "code",
   "execution_count": 35,
   "id": "3ca82bea",
   "metadata": {},
   "outputs": [],
   "source": [
    "df['depth_percentage'] = 2 * df.z / (df.x + df.y)"
   ]
  },
  {
   "cell_type": "code",
   "execution_count": null,
   "id": "77aa9016",
   "metadata": {},
   "outputs": [],
   "source": []
  },
  {
   "cell_type": "code",
   "execution_count": 36,
   "id": "b71b9c72",
   "metadata": {},
   "outputs": [],
   "source": [
    "X = df[['carat','cut','color','clarity','depth','table','depth_percentage']]\n",
    "y = df['price']"
   ]
  },
  {
   "cell_type": "code",
   "execution_count": null,
   "id": "b096f8d1",
   "metadata": {},
   "outputs": [],
   "source": []
  },
  {
   "cell_type": "code",
   "execution_count": 37,
   "id": "e3eba93e",
   "metadata": {},
   "outputs": [],
   "source": [
    "xg_reg = xgb.XGBRegressor(objective ='reg:linear', colsample_bytree = 0.5, learning_rate = 0.1,\n",
    "                max_depth = 5, alpha = 20, n_estimators = 100)"
   ]
  },
  {
   "cell_type": "code",
   "execution_count": 38,
   "id": "5914f9ed",
   "metadata": {},
   "outputs": [],
   "source": [
    "xg_reg = xgb.XGBRegressor(objective ='reg:squarederror', colsample_bytree = 1, learning_rate = 0.1,\n",
    "                max_depth = 5, alpha = 20, n_estimators = 1000)"
   ]
  },
  {
   "cell_type": "code",
   "execution_count": 39,
   "id": "f2c7b983",
   "metadata": {},
   "outputs": [
    {
     "name": "stderr",
     "output_type": "stream",
     "text": [
      "/Users/harryzuo/opt/anaconda3/lib/python3.9/site-packages/xgboost/data.py:250: FutureWarning: pandas.Int64Index is deprecated and will be removed from pandas in a future version. Use pandas.Index with the appropriate dtype instead.\n",
      "  elif isinstance(data.columns, (pd.Int64Index, pd.RangeIndex)):\n"
     ]
    },
    {
     "data": {
      "text/plain": [
       "XGBRegressor(alpha=20, base_score=0.5, booster='gbtree', colsample_bylevel=1,\n",
       "             colsample_bynode=1, colsample_bytree=1, enable_categorical=False,\n",
       "             gamma=0, gpu_id=-1, importance_type=None,\n",
       "             interaction_constraints='', learning_rate=0.1, max_delta_step=0,\n",
       "             max_depth=5, min_child_weight=1, missing=nan,\n",
       "             monotone_constraints='()', n_estimators=1000, n_jobs=8,\n",
       "             num_parallel_tree=1, predictor='auto', random_state=0,\n",
       "             reg_alpha=20, reg_lambda=1, scale_pos_weight=1, subsample=1,\n",
       "             tree_method='exact', validate_parameters=1, verbosity=None)"
      ]
     },
     "execution_count": 39,
     "metadata": {},
     "output_type": "execute_result"
    }
   ],
   "source": [
    "xg_reg.fit(X,y)\n",
    "#preds = xg_reg.predict(X_test)\n",
    "#rmse = np.sqrt(mean_squared_error(y_test, preds))\n",
    "#print(\"RMSE: %f\" % (rmse))"
   ]
  },
  {
   "cell_type": "code",
   "execution_count": null,
   "id": "ee5d7619",
   "metadata": {},
   "outputs": [],
   "source": []
  },
  {
   "cell_type": "code",
   "execution_count": null,
   "id": "251288c2",
   "metadata": {},
   "outputs": [],
   "source": []
  },
  {
   "cell_type": "code",
   "execution_count": 40,
   "id": "03e28500",
   "metadata": {},
   "outputs": [],
   "source": [
    "df_test = pd.read_csv('test.csv')"
   ]
  },
  {
   "cell_type": "code",
   "execution_count": 41,
   "id": "3f3ab655",
   "metadata": {},
   "outputs": [],
   "source": [
    "to_replace_dict = {'Very Good': 3, 'Premium': 4, 'Good': 2, 'Fair': 1, 'Ideal':5}\n",
    "for key, score in to_replace_dict.items():\n",
    "    df_test.cut.replace(to_replace = key ,value = score, inplace= True)"
   ]
  },
  {
   "cell_type": "code",
   "execution_count": 42,
   "id": "97abb6ae",
   "metadata": {},
   "outputs": [],
   "source": [
    "to_replace_dict = {'D': 7, 'E': 6, 'F': 5, 'G': 4, 'H':3, 'I': 2, 'J':1}\n",
    "for key, score in to_replace_dict.items():\n",
    "    df_test.color.replace(to_replace = key ,value = score, inplace= True)"
   ]
  },
  {
   "cell_type": "code",
   "execution_count": 43,
   "id": "a5a718e3",
   "metadata": {},
   "outputs": [],
   "source": [
    "to_replace_dict = {'IF': 8, 'VVS1': 7, 'VVS2': 6, 'VS1': 5, 'VS2':4, 'SI1': 3, 'SI2':2, 'I1':1}\n",
    "for key, score in to_replace_dict.items():\n",
    "    df_test.clarity.replace(to_replace = key ,value = score, inplace= True)"
   ]
  },
  {
   "cell_type": "code",
   "execution_count": 44,
   "id": "11567b48",
   "metadata": {},
   "outputs": [],
   "source": [
    "#df_test = df_test.drop(df_test[(df_test.x == 0) | (df_test.y == 0) | (df_test.z == 0)].index)"
   ]
  },
  {
   "cell_type": "code",
   "execution_count": 45,
   "id": "4b0a8344",
   "metadata": {},
   "outputs": [],
   "source": [
    "df_test['depth_percentage'] = 2 * df_test.z / (df_test.x + df_test.y)"
   ]
  },
  {
   "cell_type": "code",
   "execution_count": 46,
   "id": "d7db52d5",
   "metadata": {},
   "outputs": [],
   "source": [
    "X_testexcel = df_test[['carat','cut','color','clarity','depth','table','depth_percentage']]"
   ]
  },
  {
   "cell_type": "code",
   "execution_count": 47,
   "id": "73f37a9e",
   "metadata": {},
   "outputs": [],
   "source": [
    "preds_test = xg_reg.predict(X_testexcel)"
   ]
  },
  {
   "cell_type": "code",
   "execution_count": 48,
   "id": "d2fc772a",
   "metadata": {},
   "outputs": [],
   "source": [
    "pd.DataFrame(preds_test).to_csv(\"final_result2.csv\")"
   ]
  },
  {
   "cell_type": "code",
   "execution_count": null,
   "id": "184ad81a",
   "metadata": {},
   "outputs": [],
   "source": []
  }
 ],
 "metadata": {
  "kernelspec": {
   "display_name": "Python 3 (ipykernel)",
   "language": "python",
   "name": "python3"
  },
  "language_info": {
   "codemirror_mode": {
    "name": "ipython",
    "version": 3
   },
   "file_extension": ".py",
   "mimetype": "text/x-python",
   "name": "python",
   "nbconvert_exporter": "python",
   "pygments_lexer": "ipython3",
   "version": "3.9.12"
  }
 },
 "nbformat": 4,
 "nbformat_minor": 5
}
